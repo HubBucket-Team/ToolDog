{
 "cells": [
  {
   "cell_type": "markdown",
   "metadata": {},
   "source": [
    "# Protocol of experiments 19.05.2017"
   ]
  },
  {
   "cell_type": "markdown",
   "metadata": {},
   "source": [
    "__Goal:__ Develop a wrapper class for working with the low-lever docker-py API; prepare it for injecting into ToolDog architechture seamlessly."
   ]
  },
  {
   "cell_type": "markdown",
   "metadata": {},
   "source": [
    "__Requirements:__\n",
    "1. Installed [Docker](https://store.docker.com/search?type=edition&offering=community) with the internet access\n",
    "1. Python3, pip\n",
    "1. Installed dependencies from requirements.txt \n",
    "\n"
   ]
  },
  {
   "cell_type": "markdown",
   "metadata": {},
   "source": [
    "We import the Container class from docker_wrapper module."
   ]
  },
  {
   "cell_type": "code",
   "execution_count": null,
   "metadata": {},
   "outputs": [],
   "source": [
    "exec(open('../tooldog/analyse/docker_wrapper.py').read())"
   ]
  },
  {
   "cell_type": "markdown",
   "metadata": {},
   "source": [
    "As in previous experiment we will define some useful constants and util functions for later use."
   ]
  },
  {
   "cell_type": "code",
   "execution_count": null,
   "metadata": {
    "collapsed": true
   },
   "outputs": [],
   "source": [
    "def write_to_file(filename, string = ''):\n",
    "    \"\"\"Write string to file\n",
    "\n",
    "    :param str filename: Filename\n",
    "    :param str string: String to write\n",
    "    \"\"\"\n",
    "    f = open(filename, 'w')\n",
    "    f.write(string)\n",
    "    f.close()"
   ]
  },
  {
   "cell_type": "code",
   "execution_count": null,
   "metadata": {
    "collapsed": true
   },
   "outputs": [],
   "source": [
    "PYTHON_VERSION = 3 # version of python tool"
   ]
  },
  {
   "cell_type": "code",
   "execution_count": null,
   "metadata": {
    "collapsed": true
   },
   "outputs": [],
   "source": [
    "TOOL_NAME = 'fastqp' # name of the tool, assuming it is available via PyPi"
   ]
  },
  {
   "cell_type": "code",
   "execution_count": null,
   "metadata": {
    "collapsed": true
   },
   "outputs": [],
   "source": [
    "OUTPUT_FORMAT = 'cwl' # output: cwl / xml"
   ]
  },
  {
   "cell_type": "code",
   "execution_count": null,
   "metadata": {
    "collapsed": true
   },
   "outputs": [],
   "source": [
    "OUTPUT_FILENAME = TOOL_NAME + \".\" + OUTPUT_FORMAT # output filename"
   ]
  },
  {
   "cell_type": "code",
   "execution_count": null,
   "metadata": {
    "collapsed": true
   },
   "outputs": [],
   "source": [
    "PYTHON_PATH = \"/usr/local/lib/python3.5/dist-packages/\" if PYTHON_VERSION == 3 else \\\n",
    "\"/usr/local/lib/python2.7/dist-packages/\" # PYTHONPATH, required for argparse2tool"
   ]
  },
  {
   "cell_type": "markdown",
   "metadata": {},
   "source": [
    "Now we are ready to create a container."
   ]
  },
  {
   "cell_type": "code",
   "execution_count": null,
   "metadata": {
    "collapsed": true
   },
   "outputs": [],
   "source": [
    "c = Container(\"inkuzm/tooldog-analyser-sandbox\",\n",
    "              \"tail -f /dev/null\",  # run until we will stop the container\n",
    "              environment={'PYTHONPATH': PYTHON_PATH})"
   ]
  },
  {
   "cell_type": "markdown",
   "metadata": {},
   "source": [
    "Let's create an executional context."
   ]
  },
  {
   "cell_type": "code",
   "execution_count": null,
   "metadata": {},
   "outputs": [],
   "source": [
    "cwl_tool = '' \n",
    "with c:\n",
    "    exe1 = c.exec(\"pip install argparse2tool\")\n",
    "    for line in exe1:\n",
    "        print(line)\n",
    "    exe2 = c.exec('pip install ' + TOOL_NAME)\n",
    "    for line in exe2:\n",
    "        print(line)\n",
    "    exe3 = c.exec(TOOL_NAME + ' --generate_cwl_tool')\n",
    "    for line in exe3:\n",
    "        cwl_tool += line.decode(\"utf-8\")[:-1]"
   ]
  },
  {
   "cell_type": "code",
   "execution_count": null,
   "metadata": {
    "collapsed": true
   },
   "outputs": [],
   "source": [
    "write_to_file(OUTPUT_FILENAME, cwl_tool)"
   ]
  }
 ],
 "metadata": {
  "kernelspec": {
   "display_name": "Python 3",
   "language": "python",
   "name": "python3"
  },
  "language_info": {
   "codemirror_mode": {
    "name": "ipython",
    "version": 3
   },
   "file_extension": ".py",
   "mimetype": "text/x-python",
   "name": "python",
   "nbconvert_exporter": "python",
   "pygments_lexer": "ipython3",
   "version": "3.6.0"
  }
 },
 "nbformat": 4,
 "nbformat_minor": 1
}
