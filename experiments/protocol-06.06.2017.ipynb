{
 "cells": [
  {
   "cell_type": "markdown",
   "metadata": {},
   "source": [
    "# Protocol of experiments 06.06.2017"
   ]
  },
  {
   "cell_type": "markdown",
   "metadata": {},
   "source": [
    "__Requirements:__\n",
    "1. Installed [Docker](https://store.docker.com/search?type=edition&offering=community) with the internet access\n",
    "1. Python3, pip\n",
    "1. Installed dependencies from requirements.txt \n",
    "\n"
   ]
  },
  {
   "cell_type": "code",
   "execution_count": null,
   "metadata": {
    "collapsed": true
   },
   "outputs": [],
   "source": [
    "exec(open('../tooldog/analyse/container.py').read())"
   ]
  },
  {
   "cell_type": "code",
   "execution_count": null,
   "metadata": {
    "collapsed": true
   },
   "outputs": [],
   "source": [
    "import urllib.request"
   ]
  },
  {
   "cell_type": "code",
   "execution_count": null,
   "metadata": {
    "collapsed": true
   },
   "outputs": [],
   "source": [
    "import urllib.parse"
   ]
  },
  {
   "cell_type": "code",
   "execution_count": null,
   "metadata": {
    "collapsed": true
   },
   "outputs": [],
   "source": [
    "import os"
   ]
  },
  {
   "cell_type": "code",
   "execution_count": null,
   "metadata": {
    "collapsed": true
   },
   "outputs": [],
   "source": [
    "import tarfile"
   ]
  },
  {
   "cell_type": "code",
   "execution_count": null,
   "metadata": {
    "collapsed": true
   },
   "outputs": [],
   "source": [
    "def write_to_file(filename, data = '', mode='w'):\n",
    "    f = open(filename, mode)\n",
    "    f.write(data)\n",
    "    f.close()"
   ]
  },
  {
   "cell_type": "code",
   "execution_count": null,
   "metadata": {
    "collapsed": true
   },
   "outputs": [],
   "source": [
    "REPO_URL = \"https://github.com/gem-pasteur/Integron_Finder/\""
   ]
  },
  {
   "cell_type": "code",
   "execution_count": null,
   "metadata": {
    "collapsed": true
   },
   "outputs": [],
   "source": [
    "ZIP_URL = urllib.parse.urljoin(REPO_URL, \"archive/master.zip\") # unstable"
   ]
  },
  {
   "cell_type": "code",
   "execution_count": null,
   "metadata": {},
   "outputs": [],
   "source": [
    "WORKDIR = \"/\" + REPO_URL.split('/')[4] + \"-master\" # dir path after unzip at root, like \"/Integron_Finder-master\""
   ]
  },
  {
   "cell_type": "code",
   "execution_count": null,
   "metadata": {},
   "outputs": [],
   "source": [
    "response = urllib.request.urlopen(ZIP_URL)"
   ]
  },
  {
   "cell_type": "code",
   "execution_count": null,
   "metadata": {
    "collapsed": true
   },
   "outputs": [],
   "source": [
    "data = response.read()"
   ]
  },
  {
   "cell_type": "code",
   "execution_count": null,
   "metadata": {},
   "outputs": [],
   "source": [
    "write_to_file('tool.zip', data, 'wb')"
   ]
  },
  {
   "cell_type": "code",
   "execution_count": null,
   "metadata": {
    "collapsed": true
   },
   "outputs": [],
   "source": [
    "CURRENT_PATH = os.path.realpath(os.getcwd())"
   ]
  },
  {
   "cell_type": "code",
   "execution_count": null,
   "metadata": {
    "collapsed": true
   },
   "outputs": [],
   "source": [
    "ZIP_PATH = os.path.join(CURRENT_PATH, 'tool.zip')"
   ]
  },
  {
   "cell_type": "code",
   "execution_count": null,
   "metadata": {
    "collapsed": true
   },
   "outputs": [],
   "source": [
    "TAR_PATH = os.path.join(CURRENT_PATH, 'tool.tar')"
   ]
  },
  {
   "cell_type": "code",
   "execution_count": null,
   "metadata": {},
   "outputs": [],
   "source": [
    "with tarfile.open('tool.tar', mode='w') as archive:\n",
    "    archive.add(ZIP_PATH, arcname=\"tool.zip\")"
   ]
  },
  {
   "cell_type": "code",
   "execution_count": null,
   "metadata": {
    "collapsed": true
   },
   "outputs": [],
   "source": [
    "PYTHON_VERSION = 2 # version of python tool"
   ]
  },
  {
   "cell_type": "code",
   "execution_count": null,
   "metadata": {
    "collapsed": true
   },
   "outputs": [],
   "source": [
    "TOOL_NAME = 'integron_finder' # name of the tool"
   ]
  },
  {
   "cell_type": "code",
   "execution_count": null,
   "metadata": {
    "collapsed": true
   },
   "outputs": [],
   "source": [
    "OUTPUT_FORMAT = 'cwl' # output: cwl / xml"
   ]
  },
  {
   "cell_type": "code",
   "execution_count": null,
   "metadata": {
    "collapsed": true
   },
   "outputs": [],
   "source": [
    "OUTPUT_FILENAME = TOOL_NAME + \".\" + OUTPUT_FORMAT # output filename"
   ]
  },
  {
   "cell_type": "code",
   "execution_count": null,
   "metadata": {
    "collapsed": true
   },
   "outputs": [],
   "source": [
    "PYTHON_PATH = \"/usr/local/lib/python3.5/dist-packages/\" if PYTHON_VERSION == 3 else \\\n",
    "\"/usr/local/lib/python2.7/dist-packages/\" # PYTHONPATH, required for argparse2tool"
   ]
  },
  {
   "cell_type": "code",
   "execution_count": null,
   "metadata": {
    "collapsed": true
   },
   "outputs": [],
   "source": [
    "c = Container(\"inkuzm/tooldog-analyser-sandbox\",\n",
    "              \"tail -f /dev/null\",  # run until we will stop the container\n",
    "              environment={'PYTHONPATH': PYTHON_PATH})"
   ]
  },
  {
   "cell_type": "code",
   "execution_count": null,
   "metadata": {},
   "outputs": [],
   "source": [
    "c.put(TAR_PATH, \"/\")"
   ]
  },
  {
   "cell_type": "code",
   "execution_count": null,
   "metadata": {
    "collapsed": true
   },
   "outputs": [],
   "source": [
    "def cd(path, cmd):\n",
    "    return \"bash -c 'cd \" + path + \" && \" + cmd + \"'\""
   ]
  },
  {
   "cell_type": "code",
   "execution_count": null,
   "metadata": {
    "collapsed": true
   },
   "outputs": [],
   "source": [
    "def pip(v, cmd):\n",
    "    return \"pip\" + str(v) + \" \" + cmd"
   ]
  },
  {
   "cell_type": "code",
   "execution_count": null,
   "metadata": {
    "collapsed": true
   },
   "outputs": [],
   "source": [
    "GEN_CMD = TOOL_NAME + \" \" + \"--generate_cwl_tool\" if OUTPUT_FORMAT == 'cwl' else \\\n",
    "\"--generate_galaxy_xml\""
   ]
  },
  {
   "cell_type": "code",
   "execution_count": null,
   "metadata": {},
   "outputs": [],
   "source": [
    "cwl_tool = '' \n",
    "with c:\n",
    "    exe0 = c.exec(\"unzip /tool.zip\")\n",
    "    for line in exe0:\n",
    "        print(line)\n",
    "    \n",
    "    exe1 = c.exec(cd(WORKDIR, pip(PYTHON_VERSION, \"install .\")))\n",
    "    for line in exe1:\n",
    "        print(line)\n",
    "        \n",
    "    exe2 = c.exec(cd(WORKDIR, pip(PYTHON_VERSION, \"install argparse2tool\")))\n",
    "    for line in exe2:\n",
    "        print(line)\n",
    "        \n",
    "    exe3 = c.exec(cd(WORKDIR, GEN_CMD))\n",
    "    for line in exe3:\n",
    "        cwl_tool += line.decode(\"utf-8\")[:-1]\n",
    "        \n",
    "    write_to_file(OUTPUT_FILENAME, cwl_tool)"
   ]
  },
  {
   "cell_type": "code",
   "execution_count": null,
   "metadata": {
    "collapsed": true
   },
   "outputs": [],
   "source": [
    "os.remove(TAR_PATH)"
   ]
  },
  {
   "cell_type": "code",
   "execution_count": null,
   "metadata": {
    "collapsed": true
   },
   "outputs": [],
   "source": [
    "os.remove(ZIP_PATH)"
   ]
  },
  {
   "cell_type": "code",
   "execution_count": null,
   "metadata": {
    "collapsed": true
   },
   "outputs": [],
   "source": [
    "print(\"Success!\")"
   ]
  }
 ],
 "metadata": {
  "kernelspec": {
   "display_name": "Python 3",
   "language": "python",
   "name": "python3"
  },
  "language_info": {
   "codemirror_mode": {
    "name": "ipython",
    "version": 3
   },
   "file_extension": ".py",
   "mimetype": "text/x-python",
   "name": "python",
   "nbconvert_exporter": "python",
   "pygments_lexer": "ipython3",
   "version": "3.6.0"
  }
 },
 "nbformat": 4,
 "nbformat_minor": 1
}
